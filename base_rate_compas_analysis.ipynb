{
 "cells": [
  {
   "cell_type": "code",
   "execution_count": 3,
   "metadata": {
    "colab": {
     "base_uri": "https://localhost:8080/"
    },
    "id": "EL5Z01MOkF0Z",
    "outputId": "8a1c642c-bddd-43f1-f7b3-d729f076ed73"
   },
   "outputs": [
    {
     "name": "stdout",
     "output_type": "stream",
     "text": [
      "Mounted at /content/drive\n"
     ]
    }
   ],
   "source": [
    "from google.colab import drive\n",
    "drive.mount('/content/drive')"
   ]
  },
  {
   "cell_type": "code",
   "execution_count": 5,
   "metadata": {
    "id": "fY6N0QVxjJaD"
   },
   "outputs": [],
   "source": [
    "import pandas as pd\n",
    "import numpy as np"
   ]
  },
  {
   "cell_type": "markdown",
   "metadata": {
    "id": "_9KT71e8mWLV"
   },
   "source": [
    "Data Import - COMPAS data files available at https://github.com/propublica/compas-analysis (put in data folder)\n"
   ]
  },
  {
   "cell_type": "code",
   "execution_count": 6,
   "metadata": {
    "colab": {
     "base_uri": "https://localhost:8080/",
     "height": 617
    },
    "id": "sR4UvmgPjf3P",
    "outputId": "9c09d8d5-4286-49c3-a01c-abd2e17eca9e"
   },
   "outputs": [
    {
     "data": {
      "application/vnd.google.colaboratory.intrinsic+json": {
       "type": "dataframe",
       "variable_name": "df"
      },
      "text/html": [
       "\n",
       "  <div id=\"df-c8d4bcba-9935-4917-bdbd-afca19143108\" class=\"colab-df-container\">\n",
       "    <div>\n",
       "<style scoped>\n",
       "    .dataframe tbody tr th:only-of-type {\n",
       "        vertical-align: middle;\n",
       "    }\n",
       "\n",
       "    .dataframe tbody tr th {\n",
       "        vertical-align: top;\n",
       "    }\n",
       "\n",
       "    .dataframe thead th {\n",
       "        text-align: right;\n",
       "    }\n",
       "</style>\n",
       "<table border=\"1\" class=\"dataframe\">\n",
       "  <thead>\n",
       "    <tr style=\"text-align: right;\">\n",
       "      <th></th>\n",
       "      <th>id</th>\n",
       "      <th>name</th>\n",
       "      <th>first</th>\n",
       "      <th>last</th>\n",
       "      <th>compas_screening_date</th>\n",
       "      <th>sex</th>\n",
       "      <th>dob</th>\n",
       "      <th>age</th>\n",
       "      <th>age_cat</th>\n",
       "      <th>race</th>\n",
       "      <th>...</th>\n",
       "      <th>v_decile_score</th>\n",
       "      <th>v_score_text</th>\n",
       "      <th>v_screening_date</th>\n",
       "      <th>in_custody</th>\n",
       "      <th>out_custody</th>\n",
       "      <th>priors_count.1</th>\n",
       "      <th>start</th>\n",
       "      <th>end</th>\n",
       "      <th>event</th>\n",
       "      <th>two_year_recid</th>\n",
       "    </tr>\n",
       "  </thead>\n",
       "  <tbody>\n",
       "    <tr>\n",
       "      <th>0</th>\n",
       "      <td>1</td>\n",
       "      <td>miguel hernandez</td>\n",
       "      <td>miguel</td>\n",
       "      <td>hernandez</td>\n",
       "      <td>2013-08-14</td>\n",
       "      <td>Male</td>\n",
       "      <td>1947-04-18</td>\n",
       "      <td>69</td>\n",
       "      <td>Greater than 45</td>\n",
       "      <td>Other</td>\n",
       "      <td>...</td>\n",
       "      <td>1</td>\n",
       "      <td>Low</td>\n",
       "      <td>2013-08-14</td>\n",
       "      <td>2014-07-07</td>\n",
       "      <td>2014-07-14</td>\n",
       "      <td>0</td>\n",
       "      <td>0</td>\n",
       "      <td>327</td>\n",
       "      <td>0</td>\n",
       "      <td>0</td>\n",
       "    </tr>\n",
       "    <tr>\n",
       "      <th>1</th>\n",
       "      <td>3</td>\n",
       "      <td>kevon dixon</td>\n",
       "      <td>kevon</td>\n",
       "      <td>dixon</td>\n",
       "      <td>2013-01-27</td>\n",
       "      <td>Male</td>\n",
       "      <td>1982-01-22</td>\n",
       "      <td>34</td>\n",
       "      <td>25 - 45</td>\n",
       "      <td>African-American</td>\n",
       "      <td>...</td>\n",
       "      <td>1</td>\n",
       "      <td>Low</td>\n",
       "      <td>2013-01-27</td>\n",
       "      <td>2013-01-26</td>\n",
       "      <td>2013-02-05</td>\n",
       "      <td>0</td>\n",
       "      <td>9</td>\n",
       "      <td>159</td>\n",
       "      <td>1</td>\n",
       "      <td>1</td>\n",
       "    </tr>\n",
       "    <tr>\n",
       "      <th>2</th>\n",
       "      <td>4</td>\n",
       "      <td>ed philo</td>\n",
       "      <td>ed</td>\n",
       "      <td>philo</td>\n",
       "      <td>2013-04-14</td>\n",
       "      <td>Male</td>\n",
       "      <td>1991-05-14</td>\n",
       "      <td>24</td>\n",
       "      <td>Less than 25</td>\n",
       "      <td>African-American</td>\n",
       "      <td>...</td>\n",
       "      <td>3</td>\n",
       "      <td>Low</td>\n",
       "      <td>2013-04-14</td>\n",
       "      <td>2013-06-16</td>\n",
       "      <td>2013-06-16</td>\n",
       "      <td>4</td>\n",
       "      <td>0</td>\n",
       "      <td>63</td>\n",
       "      <td>0</td>\n",
       "      <td>1</td>\n",
       "    </tr>\n",
       "    <tr>\n",
       "      <th>3</th>\n",
       "      <td>5</td>\n",
       "      <td>marcu brown</td>\n",
       "      <td>marcu</td>\n",
       "      <td>brown</td>\n",
       "      <td>2013-01-13</td>\n",
       "      <td>Male</td>\n",
       "      <td>1993-01-21</td>\n",
       "      <td>23</td>\n",
       "      <td>Less than 25</td>\n",
       "      <td>African-American</td>\n",
       "      <td>...</td>\n",
       "      <td>6</td>\n",
       "      <td>Medium</td>\n",
       "      <td>2013-01-13</td>\n",
       "      <td>NaN</td>\n",
       "      <td>NaN</td>\n",
       "      <td>1</td>\n",
       "      <td>0</td>\n",
       "      <td>1174</td>\n",
       "      <td>0</td>\n",
       "      <td>0</td>\n",
       "    </tr>\n",
       "    <tr>\n",
       "      <th>4</th>\n",
       "      <td>6</td>\n",
       "      <td>bouthy pierrelouis</td>\n",
       "      <td>bouthy</td>\n",
       "      <td>pierrelouis</td>\n",
       "      <td>2013-03-26</td>\n",
       "      <td>Male</td>\n",
       "      <td>1973-01-22</td>\n",
       "      <td>43</td>\n",
       "      <td>25 - 45</td>\n",
       "      <td>Other</td>\n",
       "      <td>...</td>\n",
       "      <td>1</td>\n",
       "      <td>Low</td>\n",
       "      <td>2013-03-26</td>\n",
       "      <td>NaN</td>\n",
       "      <td>NaN</td>\n",
       "      <td>2</td>\n",
       "      <td>0</td>\n",
       "      <td>1102</td>\n",
       "      <td>0</td>\n",
       "      <td>0</td>\n",
       "    </tr>\n",
       "    <tr>\n",
       "      <th>...</th>\n",
       "      <td>...</td>\n",
       "      <td>...</td>\n",
       "      <td>...</td>\n",
       "      <td>...</td>\n",
       "      <td>...</td>\n",
       "      <td>...</td>\n",
       "      <td>...</td>\n",
       "      <td>...</td>\n",
       "      <td>...</td>\n",
       "      <td>...</td>\n",
       "      <td>...</td>\n",
       "      <td>...</td>\n",
       "      <td>...</td>\n",
       "      <td>...</td>\n",
       "      <td>...</td>\n",
       "      <td>...</td>\n",
       "      <td>...</td>\n",
       "      <td>...</td>\n",
       "      <td>...</td>\n",
       "      <td>...</td>\n",
       "      <td>...</td>\n",
       "    </tr>\n",
       "    <tr>\n",
       "      <th>7209</th>\n",
       "      <td>10996</td>\n",
       "      <td>steven butler</td>\n",
       "      <td>steven</td>\n",
       "      <td>butler</td>\n",
       "      <td>2013-11-23</td>\n",
       "      <td>Male</td>\n",
       "      <td>1992-07-17</td>\n",
       "      <td>23</td>\n",
       "      <td>Less than 25</td>\n",
       "      <td>African-American</td>\n",
       "      <td>...</td>\n",
       "      <td>5</td>\n",
       "      <td>Medium</td>\n",
       "      <td>2013-11-23</td>\n",
       "      <td>2013-11-22</td>\n",
       "      <td>2013-11-24</td>\n",
       "      <td>0</td>\n",
       "      <td>1</td>\n",
       "      <td>860</td>\n",
       "      <td>0</td>\n",
       "      <td>0</td>\n",
       "    </tr>\n",
       "    <tr>\n",
       "      <th>7210</th>\n",
       "      <td>10997</td>\n",
       "      <td>malcolm simmons</td>\n",
       "      <td>malcolm</td>\n",
       "      <td>simmons</td>\n",
       "      <td>2014-02-01</td>\n",
       "      <td>Male</td>\n",
       "      <td>1993-03-25</td>\n",
       "      <td>23</td>\n",
       "      <td>Less than 25</td>\n",
       "      <td>African-American</td>\n",
       "      <td>...</td>\n",
       "      <td>5</td>\n",
       "      <td>Medium</td>\n",
       "      <td>2014-02-01</td>\n",
       "      <td>2014-01-31</td>\n",
       "      <td>2014-02-02</td>\n",
       "      <td>0</td>\n",
       "      <td>1</td>\n",
       "      <td>790</td>\n",
       "      <td>0</td>\n",
       "      <td>0</td>\n",
       "    </tr>\n",
       "    <tr>\n",
       "      <th>7211</th>\n",
       "      <td>10999</td>\n",
       "      <td>winston gregory</td>\n",
       "      <td>winston</td>\n",
       "      <td>gregory</td>\n",
       "      <td>2014-01-14</td>\n",
       "      <td>Male</td>\n",
       "      <td>1958-10-01</td>\n",
       "      <td>57</td>\n",
       "      <td>Greater than 45</td>\n",
       "      <td>Other</td>\n",
       "      <td>...</td>\n",
       "      <td>1</td>\n",
       "      <td>Low</td>\n",
       "      <td>2014-01-14</td>\n",
       "      <td>2014-01-13</td>\n",
       "      <td>2014-01-14</td>\n",
       "      <td>0</td>\n",
       "      <td>0</td>\n",
       "      <td>808</td>\n",
       "      <td>0</td>\n",
       "      <td>0</td>\n",
       "    </tr>\n",
       "    <tr>\n",
       "      <th>7212</th>\n",
       "      <td>11000</td>\n",
       "      <td>farrah jean</td>\n",
       "      <td>farrah</td>\n",
       "      <td>jean</td>\n",
       "      <td>2014-03-09</td>\n",
       "      <td>Female</td>\n",
       "      <td>1982-11-17</td>\n",
       "      <td>33</td>\n",
       "      <td>25 - 45</td>\n",
       "      <td>African-American</td>\n",
       "      <td>...</td>\n",
       "      <td>2</td>\n",
       "      <td>Low</td>\n",
       "      <td>2014-03-09</td>\n",
       "      <td>2014-03-08</td>\n",
       "      <td>2014-03-09</td>\n",
       "      <td>3</td>\n",
       "      <td>0</td>\n",
       "      <td>754</td>\n",
       "      <td>0</td>\n",
       "      <td>0</td>\n",
       "    </tr>\n",
       "    <tr>\n",
       "      <th>7213</th>\n",
       "      <td>11001</td>\n",
       "      <td>florencia sanmartin</td>\n",
       "      <td>florencia</td>\n",
       "      <td>sanmartin</td>\n",
       "      <td>2014-06-30</td>\n",
       "      <td>Female</td>\n",
       "      <td>1992-12-18</td>\n",
       "      <td>23</td>\n",
       "      <td>Less than 25</td>\n",
       "      <td>Hispanic</td>\n",
       "      <td>...</td>\n",
       "      <td>4</td>\n",
       "      <td>Low</td>\n",
       "      <td>2014-06-30</td>\n",
       "      <td>2015-03-15</td>\n",
       "      <td>2015-03-15</td>\n",
       "      <td>2</td>\n",
       "      <td>0</td>\n",
       "      <td>258</td>\n",
       "      <td>0</td>\n",
       "      <td>1</td>\n",
       "    </tr>\n",
       "  </tbody>\n",
       "</table>\n",
       "<p>7214 rows × 53 columns</p>\n",
       "</div>\n",
       "    <div class=\"colab-df-buttons\">\n",
       "\n",
       "  <div class=\"colab-df-container\">\n",
       "    <button class=\"colab-df-convert\" onclick=\"convertToInteractive('df-c8d4bcba-9935-4917-bdbd-afca19143108')\"\n",
       "            title=\"Convert this dataframe to an interactive table.\"\n",
       "            style=\"display:none;\">\n",
       "\n",
       "  <svg xmlns=\"http://www.w3.org/2000/svg\" height=\"24px\" viewBox=\"0 -960 960 960\">\n",
       "    <path d=\"M120-120v-720h720v720H120Zm60-500h600v-160H180v160Zm220 220h160v-160H400v160Zm0 220h160v-160H400v160ZM180-400h160v-160H180v160Zm440 0h160v-160H620v160ZM180-180h160v-160H180v160Zm440 0h160v-160H620v160Z\"/>\n",
       "  </svg>\n",
       "    </button>\n",
       "\n",
       "  <style>\n",
       "    .colab-df-container {\n",
       "      display:flex;\n",
       "      gap: 12px;\n",
       "    }\n",
       "\n",
       "    .colab-df-convert {\n",
       "      background-color: #E8F0FE;\n",
       "      border: none;\n",
       "      border-radius: 50%;\n",
       "      cursor: pointer;\n",
       "      display: none;\n",
       "      fill: #1967D2;\n",
       "      height: 32px;\n",
       "      padding: 0 0 0 0;\n",
       "      width: 32px;\n",
       "    }\n",
       "\n",
       "    .colab-df-convert:hover {\n",
       "      background-color: #E2EBFA;\n",
       "      box-shadow: 0px 1px 2px rgba(60, 64, 67, 0.3), 0px 1px 3px 1px rgba(60, 64, 67, 0.15);\n",
       "      fill: #174EA6;\n",
       "    }\n",
       "\n",
       "    .colab-df-buttons div {\n",
       "      margin-bottom: 4px;\n",
       "    }\n",
       "\n",
       "    [theme=dark] .colab-df-convert {\n",
       "      background-color: #3B4455;\n",
       "      fill: #D2E3FC;\n",
       "    }\n",
       "\n",
       "    [theme=dark] .colab-df-convert:hover {\n",
       "      background-color: #434B5C;\n",
       "      box-shadow: 0px 1px 3px 1px rgba(0, 0, 0, 0.15);\n",
       "      filter: drop-shadow(0px 1px 2px rgba(0, 0, 0, 0.3));\n",
       "      fill: #FFFFFF;\n",
       "    }\n",
       "  </style>\n",
       "\n",
       "    <script>\n",
       "      const buttonEl =\n",
       "        document.querySelector('#df-c8d4bcba-9935-4917-bdbd-afca19143108 button.colab-df-convert');\n",
       "      buttonEl.style.display =\n",
       "        google.colab.kernel.accessAllowed ? 'block' : 'none';\n",
       "\n",
       "      async function convertToInteractive(key) {\n",
       "        const element = document.querySelector('#df-c8d4bcba-9935-4917-bdbd-afca19143108');\n",
       "        const dataTable =\n",
       "          await google.colab.kernel.invokeFunction('convertToInteractive',\n",
       "                                                    [key], {});\n",
       "        if (!dataTable) return;\n",
       "\n",
       "        const docLinkHtml = 'Like what you see? Visit the ' +\n",
       "          '<a target=\"_blank\" href=https://colab.research.google.com/notebooks/data_table.ipynb>data table notebook</a>'\n",
       "          + ' to learn more about interactive tables.';\n",
       "        element.innerHTML = '';\n",
       "        dataTable['output_type'] = 'display_data';\n",
       "        await google.colab.output.renderOutput(dataTable, element);\n",
       "        const docLink = document.createElement('div');\n",
       "        docLink.innerHTML = docLinkHtml;\n",
       "        element.appendChild(docLink);\n",
       "      }\n",
       "    </script>\n",
       "  </div>\n",
       "\n",
       "\n",
       "<div id=\"df-38d48d1a-f7a9-45bb-92f2-fe514b836288\">\n",
       "  <button class=\"colab-df-quickchart\" onclick=\"quickchart('df-38d48d1a-f7a9-45bb-92f2-fe514b836288')\"\n",
       "            title=\"Suggest charts\"\n",
       "            style=\"display:none;\">\n",
       "\n",
       "<svg xmlns=\"http://www.w3.org/2000/svg\" height=\"24px\"viewBox=\"0 0 24 24\"\n",
       "     width=\"24px\">\n",
       "    <g>\n",
       "        <path d=\"M19 3H5c-1.1 0-2 .9-2 2v14c0 1.1.9 2 2 2h14c1.1 0 2-.9 2-2V5c0-1.1-.9-2-2-2zM9 17H7v-7h2v7zm4 0h-2V7h2v10zm4 0h-2v-4h2v4z\"/>\n",
       "    </g>\n",
       "</svg>\n",
       "  </button>\n",
       "\n",
       "<style>\n",
       "  .colab-df-quickchart {\n",
       "      --bg-color: #E8F0FE;\n",
       "      --fill-color: #1967D2;\n",
       "      --hover-bg-color: #E2EBFA;\n",
       "      --hover-fill-color: #174EA6;\n",
       "      --disabled-fill-color: #AAA;\n",
       "      --disabled-bg-color: #DDD;\n",
       "  }\n",
       "\n",
       "  [theme=dark] .colab-df-quickchart {\n",
       "      --bg-color: #3B4455;\n",
       "      --fill-color: #D2E3FC;\n",
       "      --hover-bg-color: #434B5C;\n",
       "      --hover-fill-color: #FFFFFF;\n",
       "      --disabled-bg-color: #3B4455;\n",
       "      --disabled-fill-color: #666;\n",
       "  }\n",
       "\n",
       "  .colab-df-quickchart {\n",
       "    background-color: var(--bg-color);\n",
       "    border: none;\n",
       "    border-radius: 50%;\n",
       "    cursor: pointer;\n",
       "    display: none;\n",
       "    fill: var(--fill-color);\n",
       "    height: 32px;\n",
       "    padding: 0;\n",
       "    width: 32px;\n",
       "  }\n",
       "\n",
       "  .colab-df-quickchart:hover {\n",
       "    background-color: var(--hover-bg-color);\n",
       "    box-shadow: 0 1px 2px rgba(60, 64, 67, 0.3), 0 1px 3px 1px rgba(60, 64, 67, 0.15);\n",
       "    fill: var(--button-hover-fill-color);\n",
       "  }\n",
       "\n",
       "  .colab-df-quickchart-complete:disabled,\n",
       "  .colab-df-quickchart-complete:disabled:hover {\n",
       "    background-color: var(--disabled-bg-color);\n",
       "    fill: var(--disabled-fill-color);\n",
       "    box-shadow: none;\n",
       "  }\n",
       "\n",
       "  .colab-df-spinner {\n",
       "    border: 2px solid var(--fill-color);\n",
       "    border-color: transparent;\n",
       "    border-bottom-color: var(--fill-color);\n",
       "    animation:\n",
       "      spin 1s steps(1) infinite;\n",
       "  }\n",
       "\n",
       "  @keyframes spin {\n",
       "    0% {\n",
       "      border-color: transparent;\n",
       "      border-bottom-color: var(--fill-color);\n",
       "      border-left-color: var(--fill-color);\n",
       "    }\n",
       "    20% {\n",
       "      border-color: transparent;\n",
       "      border-left-color: var(--fill-color);\n",
       "      border-top-color: var(--fill-color);\n",
       "    }\n",
       "    30% {\n",
       "      border-color: transparent;\n",
       "      border-left-color: var(--fill-color);\n",
       "      border-top-color: var(--fill-color);\n",
       "      border-right-color: var(--fill-color);\n",
       "    }\n",
       "    40% {\n",
       "      border-color: transparent;\n",
       "      border-right-color: var(--fill-color);\n",
       "      border-top-color: var(--fill-color);\n",
       "    }\n",
       "    60% {\n",
       "      border-color: transparent;\n",
       "      border-right-color: var(--fill-color);\n",
       "    }\n",
       "    80% {\n",
       "      border-color: transparent;\n",
       "      border-right-color: var(--fill-color);\n",
       "      border-bottom-color: var(--fill-color);\n",
       "    }\n",
       "    90% {\n",
       "      border-color: transparent;\n",
       "      border-bottom-color: var(--fill-color);\n",
       "    }\n",
       "  }\n",
       "</style>\n",
       "\n",
       "  <script>\n",
       "    async function quickchart(key) {\n",
       "      const quickchartButtonEl =\n",
       "        document.querySelector('#' + key + ' button');\n",
       "      quickchartButtonEl.disabled = true;  // To prevent multiple clicks.\n",
       "      quickchartButtonEl.classList.add('colab-df-spinner');\n",
       "      try {\n",
       "        const charts = await google.colab.kernel.invokeFunction(\n",
       "            'suggestCharts', [key], {});\n",
       "      } catch (error) {\n",
       "        console.error('Error during call to suggestCharts:', error);\n",
       "      }\n",
       "      quickchartButtonEl.classList.remove('colab-df-spinner');\n",
       "      quickchartButtonEl.classList.add('colab-df-quickchart-complete');\n",
       "    }\n",
       "    (() => {\n",
       "      let quickchartButtonEl =\n",
       "        document.querySelector('#df-38d48d1a-f7a9-45bb-92f2-fe514b836288 button');\n",
       "      quickchartButtonEl.style.display =\n",
       "        google.colab.kernel.accessAllowed ? 'block' : 'none';\n",
       "    })();\n",
       "  </script>\n",
       "</div>\n",
       "\n",
       "  <div id=\"id_5775791b-3e31-4a9b-adbf-e9a069fbfaf6\">\n",
       "    <style>\n",
       "      .colab-df-generate {\n",
       "        background-color: #E8F0FE;\n",
       "        border: none;\n",
       "        border-radius: 50%;\n",
       "        cursor: pointer;\n",
       "        display: none;\n",
       "        fill: #1967D2;\n",
       "        height: 32px;\n",
       "        padding: 0 0 0 0;\n",
       "        width: 32px;\n",
       "      }\n",
       "\n",
       "      .colab-df-generate:hover {\n",
       "        background-color: #E2EBFA;\n",
       "        box-shadow: 0px 1px 2px rgba(60, 64, 67, 0.3), 0px 1px 3px 1px rgba(60, 64, 67, 0.15);\n",
       "        fill: #174EA6;\n",
       "      }\n",
       "\n",
       "      [theme=dark] .colab-df-generate {\n",
       "        background-color: #3B4455;\n",
       "        fill: #D2E3FC;\n",
       "      }\n",
       "\n",
       "      [theme=dark] .colab-df-generate:hover {\n",
       "        background-color: #434B5C;\n",
       "        box-shadow: 0px 1px 3px 1px rgba(0, 0, 0, 0.15);\n",
       "        filter: drop-shadow(0px 1px 2px rgba(0, 0, 0, 0.3));\n",
       "        fill: #FFFFFF;\n",
       "      }\n",
       "    </style>\n",
       "    <button class=\"colab-df-generate\" onclick=\"generateWithVariable('df')\"\n",
       "            title=\"Generate code using this dataframe.\"\n",
       "            style=\"display:none;\">\n",
       "\n",
       "  <svg xmlns=\"http://www.w3.org/2000/svg\" height=\"24px\"viewBox=\"0 0 24 24\"\n",
       "       width=\"24px\">\n",
       "    <path d=\"M7,19H8.4L18.45,9,17,7.55,7,17.6ZM5,21V16.75L18.45,3.32a2,2,0,0,1,2.83,0l1.4,1.43a1.91,1.91,0,0,1,.58,1.4,1.91,1.91,0,0,1-.58,1.4L9.25,21ZM18.45,9,17,7.55Zm-12,3A5.31,5.31,0,0,0,4.9,8.1,5.31,5.31,0,0,0,1,6.5,5.31,5.31,0,0,0,4.9,4.9,5.31,5.31,0,0,0,6.5,1,5.31,5.31,0,0,0,8.1,4.9,5.31,5.31,0,0,0,12,6.5,5.46,5.46,0,0,0,6.5,12Z\"/>\n",
       "  </svg>\n",
       "    </button>\n",
       "    <script>\n",
       "      (() => {\n",
       "      const buttonEl =\n",
       "        document.querySelector('#id_5775791b-3e31-4a9b-adbf-e9a069fbfaf6 button.colab-df-generate');\n",
       "      buttonEl.style.display =\n",
       "        google.colab.kernel.accessAllowed ? 'block' : 'none';\n",
       "\n",
       "      buttonEl.onclick = () => {\n",
       "        google.colab.notebook.generateWithVariable('df');\n",
       "      }\n",
       "      })();\n",
       "    </script>\n",
       "  </div>\n",
       "\n",
       "    </div>\n",
       "  </div>\n"
      ],
      "text/plain": [
       "         id                 name      first         last  \\\n",
       "0         1     miguel hernandez     miguel    hernandez   \n",
       "1         3          kevon dixon      kevon        dixon   \n",
       "2         4             ed philo         ed        philo   \n",
       "3         5          marcu brown      marcu        brown   \n",
       "4         6   bouthy pierrelouis     bouthy  pierrelouis   \n",
       "...     ...                  ...        ...          ...   \n",
       "7209  10996        steven butler     steven       butler   \n",
       "7210  10997      malcolm simmons    malcolm      simmons   \n",
       "7211  10999      winston gregory    winston      gregory   \n",
       "7212  11000          farrah jean     farrah         jean   \n",
       "7213  11001  florencia sanmartin  florencia    sanmartin   \n",
       "\n",
       "     compas_screening_date     sex         dob  age          age_cat  \\\n",
       "0               2013-08-14    Male  1947-04-18   69  Greater than 45   \n",
       "1               2013-01-27    Male  1982-01-22   34          25 - 45   \n",
       "2               2013-04-14    Male  1991-05-14   24     Less than 25   \n",
       "3               2013-01-13    Male  1993-01-21   23     Less than 25   \n",
       "4               2013-03-26    Male  1973-01-22   43          25 - 45   \n",
       "...                    ...     ...         ...  ...              ...   \n",
       "7209            2013-11-23    Male  1992-07-17   23     Less than 25   \n",
       "7210            2014-02-01    Male  1993-03-25   23     Less than 25   \n",
       "7211            2014-01-14    Male  1958-10-01   57  Greater than 45   \n",
       "7212            2014-03-09  Female  1982-11-17   33          25 - 45   \n",
       "7213            2014-06-30  Female  1992-12-18   23     Less than 25   \n",
       "\n",
       "                  race  ...  v_decile_score  v_score_text  v_screening_date  \\\n",
       "0                Other  ...               1           Low        2013-08-14   \n",
       "1     African-American  ...               1           Low        2013-01-27   \n",
       "2     African-American  ...               3           Low        2013-04-14   \n",
       "3     African-American  ...               6        Medium        2013-01-13   \n",
       "4                Other  ...               1           Low        2013-03-26   \n",
       "...                ...  ...             ...           ...               ...   \n",
       "7209  African-American  ...               5        Medium        2013-11-23   \n",
       "7210  African-American  ...               5        Medium        2014-02-01   \n",
       "7211             Other  ...               1           Low        2014-01-14   \n",
       "7212  African-American  ...               2           Low        2014-03-09   \n",
       "7213          Hispanic  ...               4           Low        2014-06-30   \n",
       "\n",
       "      in_custody  out_custody  priors_count.1 start   end event two_year_recid  \n",
       "0     2014-07-07   2014-07-14               0     0   327     0              0  \n",
       "1     2013-01-26   2013-02-05               0     9   159     1              1  \n",
       "2     2013-06-16   2013-06-16               4     0    63     0              1  \n",
       "3            NaN          NaN               1     0  1174     0              0  \n",
       "4            NaN          NaN               2     0  1102     0              0  \n",
       "...          ...          ...             ...   ...   ...   ...            ...  \n",
       "7209  2013-11-22   2013-11-24               0     1   860     0              0  \n",
       "7210  2014-01-31   2014-02-02               0     1   790     0              0  \n",
       "7211  2014-01-13   2014-01-14               0     0   808     0              0  \n",
       "7212  2014-03-08   2014-03-09               3     0   754     0              0  \n",
       "7213  2015-03-15   2015-03-15               2     0   258     0              1  \n",
       "\n",
       "[7214 rows x 53 columns]"
      ]
     },
     "execution_count": 6,
     "metadata": {},
     "output_type": "execute_result"
    }
   ],
   "source": [
    "df = pd.read_csv(\"data/compas-scores-two-years.csv\")\n",
    "df_violent = pd.read_csv(\"data/compas-scores-two-years-violent.csv\")\n",
    "df"
   ]
  },
  {
   "cell_type": "code",
   "execution_count": 7,
   "metadata": {
    "colab": {
     "base_uri": "https://localhost:8080/"
    },
    "id": "ZRzi6GySjkJu",
    "outputId": "dff74ec8-aab8-4866-dfa0-cd24bc978278"
   },
   "outputs": [
    {
     "name": "stdout",
     "output_type": "stream",
     "text": [
      "score \t #AA \t #Cauc\n",
      "1 \t 398 \t 681\n",
      "2 \t 393 \t 361\n",
      "3 \t 346 \t 273\n",
      "4 \t 385 \t 285\n",
      "5 \t 365 \t 241\n",
      "6 \t 384 \t 194\n",
      "7 \t 400 \t 143\n",
      "8 \t 359 \t 114\n",
      "9 \t 380 \t 98\n",
      "10 \t 286 \t 64\n"
     ]
    }
   ],
   "source": [
    "print (\"score\", \"\\t\", \"#AA\", \"\\t\", \"#Cauc\")\n",
    "for sc in range(1,11):\n",
    "  df_part = df[df['decile_score'] == sc]\n",
    "  df_part_aa = df_part[df_part['race'] == \"African-American\"]\n",
    "  df_part_ca = df_part[df_part['race'] == \"Caucasian\"]\n",
    "\n",
    "  print (sc, \"\\t\", len(df_part_aa), \"\\t\", len(df_part_ca))"
   ]
  },
  {
   "cell_type": "markdown",
   "metadata": {
    "id": "denn39vMmbvv"
   },
   "source": [
    "Pre-processing data"
   ]
  },
  {
   "cell_type": "code",
   "execution_count": 8,
   "metadata": {
    "colab": {
     "base_uri": "https://localhost:8080/"
    },
    "id": "mr2QJEg0lAMs",
    "outputId": "8206d2a4-b3d9-4f80-d18b-f688faacacb7"
   },
   "outputs": [
    {
     "name": "stdout",
     "output_type": "stream",
     "text": [
      "5278\n"
     ]
    }
   ],
   "source": [
    "df_clean = df[['age', 'c_charge_degree', 'race', 'age_cat', 'score_text', 'sex', 'priors_count', 'is_violent_recid', 'c_arrest_date', 'c_offense_date', 'screening_date',\n",
    "               'days_b_screening_arrest', 'decile_score', 'is_recid', 'two_year_recid', 'c_jail_in', 'c_jail_out', 'v_decile_score']]\n",
    "df_clean = df_clean[(df_clean['days_b_screening_arrest'] <= 30) & (df_clean['days_b_screening_arrest'] >= -30)]\n",
    "df_clean = df_clean[df_clean['is_recid'] != -1]\n",
    "df_clean = df_clean[df_clean['c_charge_degree'] != \"O\"]\n",
    "df_clean = df_clean[df_clean['score_text'] != 'N/A']\n",
    "df_clean = df_clean[df_clean['race'].isin(['African-American', 'Caucasian'])]\n",
    "print(df_clean.shape[0])"
   ]
  },
  {
   "cell_type": "code",
   "execution_count": 9,
   "metadata": {
    "colab": {
     "base_uri": "https://localhost:8080/"
    },
    "id": "d0xyXt_VmP3H",
    "outputId": "85bff496-b071-464d-c2a1-1ff12e72703b"
   },
   "outputs": [
    {
     "data": {
      "text/plain": [
       "0.20388361454737944"
      ]
     },
     "execution_count": 9,
     "metadata": {},
     "output_type": "execute_result"
    }
   ],
   "source": [
    "df_clean['length_of_stay'] = (pd.to_datetime(df_clean['c_jail_out']) - pd.to_datetime(df_clean['c_jail_in'])).dt.days.astype(float)\n",
    "df_clean[['length_of_stay', 'decile_score']].corr().iloc[0,1]"
   ]
  },
  {
   "cell_type": "code",
   "execution_count": 10,
   "metadata": {
    "colab": {
     "base_uri": "https://localhost:8080/"
    },
    "id": "AXFcxdU19Sqk",
    "outputId": "88c105cc-8a89-4768-ea11-111d6069a952"
   },
   "outputs": [
    {
     "name": "stdout",
     "output_type": "stream",
     "text": [
      "3967\n"
     ]
    }
   ],
   "source": [
    "df_violent_clean = df_violent[['age', 'c_charge_degree', 'race', 'age_cat', 'score_text', 'sex', 'priors_count', 'is_violent_recid', 'c_arrest_date', 'c_offense_date', 'screening_date',\n",
    "                'days_b_screening_arrest', 'decile_score', 'is_recid', 'two_year_recid', 'c_jail_in', 'c_jail_out', 'v_decile_score']]\n",
    "#df_clean = df_clean[(df_clean['days_b_screening_arrest'] <= 30) & (df_clean['days_b_screening_arrest'] >= -30)]\n",
    "#df_clean = df_clean[df_clean['is_recid'] != -1]\n",
    "#df_clean = df_clean[df_clean['c_charge_degree'] != \"O\"]\n",
    "#df_clean = df_clean[df_clean['score_text'] != 'N/A']\n",
    "df_violent_clean = df_violent_clean[df_violent_clean[\"race\"].isin([\"African-American\", \"Caucasian\"])]\n",
    "print(df_violent_clean.shape[0])"
   ]
  },
  {
   "cell_type": "code",
   "execution_count": 11,
   "metadata": {
    "id": "d0AiB4e9m9nJ"
   },
   "outputs": [],
   "source": [
    "df_clean[\"decile_score_trans\"] = (df_clean[\"decile_score\"] - 1)/9\n",
    "df_clean[\"v_decile_score_trans\"] = (df_clean[\"v_decile_score\"] - 1)/9"
   ]
  },
  {
   "cell_type": "code",
   "execution_count": 12,
   "metadata": {
    "id": "zj1P6tx9-HxD"
   },
   "outputs": [],
   "source": [
    "df_violent_clean[\"decile_score_trans\"] = (df_violent_clean[\"decile_score\"] - 1)/9\n",
    "df_violent_clean[\"v_decile_score_trans\"] = (df_violent_clean[\"v_decile_score\"] - 1)/9"
   ]
  },
  {
   "cell_type": "markdown",
   "metadata": {
    "id": "amfORdH6nQmn"
   },
   "source": [
    "Base rate tracking metrics computation"
   ]
  },
  {
   "cell_type": "code",
   "execution_count": 14,
   "metadata": {
    "id": "JtXOcsKpnIgn"
   },
   "outputs": [],
   "source": [
    "def compute_metrics(df_clean, column=\"race\", value=\"Hispanic\"):\n",
    "  len_ = len(df_clean[df_clean[column]==value])\n",
    "  print(\"There are n={} {}s out of {} ({:.2f}%)\".format(len_, value, len(df_clean), 100*len_/len(df_clean)))\n",
    "\n",
    "  avg_risk_gen = df_clean[df_clean[column]==value][\"decile_score\"].mean()\n",
    "  avg_risk_vio = df_clean[df_clean[column]==value][\"v_decile_score\"].mean()\n",
    "\n",
    "  print(\"Average risk score of general recidivism of {}:\".format(value), avg_risk_gen)\n",
    "  print(\"Average risk score of violent general recidivism of {}:\".format(value), avg_risk_vio)\n",
    "\n",
    "  avg_risk_gen = df_clean[df_clean[column]==value][\"decile_score_trans\"].mean()\n",
    "  avg_risk_vio = df_clean[df_clean[column]==value][\"v_decile_score_trans\"].mean()\n",
    "\n",
    "  print(\"\\nAverage normalized risk score of general recidivism of {}:\".format(value), avg_risk_gen)\n",
    "  print(\"Average normalized risk score of violent general recidivism of {}:\".format(value), avg_risk_vio)\n",
    "\n",
    "  #### Base rate\n",
    "  rein = df_clean[df_clean[column]==value][\"is_recid\"].sum()\n",
    "  total = len(df_clean[df_clean[column]==value])\n",
    "\n",
    "  print(\"\\n{} recidivated {}. It's {}\".format(value, rein, rein/total))\n",
    "\n",
    "  rein = df_clean[df_clean[column]==value][\"is_violent_recid\"].sum()\n",
    "  total = len(df_clean[df_clean[column]==value])\n",
    "\n",
    "  print(\"{} who violently recidivated {}. It's a {}\".format(value, rein, rein/total))\n",
    "  print(\"\\n--------------- \\n\")"
   ]
  },
  {
   "cell_type": "code",
   "execution_count": 15,
   "metadata": {
    "colab": {
     "base_uri": "https://localhost:8080/"
    },
    "id": "UqS1hRgjnWqm",
    "outputId": "bc9319db-086f-4cef-8ba6-12a1aa007fc1"
   },
   "outputs": [
    {
     "data": {
      "text/plain": [
       "array(['African-American', 'Caucasian'], dtype=object)"
      ]
     },
     "execution_count": 15,
     "metadata": {},
     "output_type": "execute_result"
    }
   ],
   "source": [
    "df_clean[\"race\"].unique()"
   ]
  },
  {
   "cell_type": "code",
   "execution_count": 16,
   "metadata": {
    "colab": {
     "base_uri": "https://localhost:8080/"
    },
    "id": "5r9kb2odna4W",
    "outputId": "09a30ff8-4663-48f7-fdde-fd757d512e08"
   },
   "outputs": [
    {
     "name": "stdout",
     "output_type": "stream",
     "text": [
      "There are n=3175 African-Americans out of 5278 (60.16%)\n",
      "Average risk score of general recidivism of African-American: 5.276850393700787\n",
      "Average risk score of violent general recidivism of African-American: 4.329448818897638\n",
      "\n",
      "Average normalized risk score of general recidivism of African-American: 0.47520559930008743\n",
      "Average normalized risk score of violent general recidivism of African-American: 0.36993875765529305\n",
      "\n",
      "African-American recidivated 1773. It's 0.5584251968503937\n",
      "African-American who violently recidivated 426. It's a 0.1341732283464567\n",
      "\n",
      "--------------- \n",
      "\n",
      "There are n=2103 Caucasians out of 5278 (39.84%)\n",
      "Average risk score of general recidivism of Caucasian: 3.635282929148835\n",
      "Average risk score of violent general recidivism of Caucasian: 2.907275320970043\n",
      "\n",
      "Average normalized risk score of general recidivism of Caucasian: 0.29280921434987056\n",
      "Average normalized risk score of violent general recidivism of Caucasian: 0.21191948010778255\n",
      "\n",
      "Caucasian recidivated 874. It's 0.41559676652401334\n",
      "Caucasian who violently recidivated 186. It's a 0.0884450784593438\n",
      "\n",
      "--------------- \n",
      "\n"
     ]
    }
   ],
   "source": [
    "for race in df_clean[\"race\"].unique():\n",
    "  compute_metrics(df_clean, \"race\", race)"
   ]
  },
  {
   "cell_type": "code",
   "execution_count": 17,
   "metadata": {
    "id": "O6xi3jEbCHvp"
   },
   "outputs": [],
   "source": [
    "def compute_metrics_violent(df_clean, column=\"race\", value=\"Hispanic\"):\n",
    "  len_ = len(df_clean[df_clean[column]==value])\n",
    "  print(\"There are n={} {}s out of {} ({:.2f}%)\".format(len_, value, len(df_clean), 100*len_/len(df_clean)))\n",
    "\n",
    "  avg_risk_vio = df_clean[df_clean[column]==value][\"v_decile_score\"].mean()\n",
    "\n",
    "  print(\"Average risk score of violent general recidivism of {}:\".format(value), avg_risk_vio)\n",
    "\n",
    "  avg_risk_vio = df_clean[df_clean[column]==value][\"v_decile_score_trans\"].mean()\n",
    "\n",
    "  print(\"Average normalized risk score of violent general recidivism of {}:\".format(value), avg_risk_vio)\n",
    "\n",
    "  #### Base rate\n",
    "  rein = df_clean[df_clean[column]==value][\"is_recid\"].sum()\n",
    "  total = len(df_clean[df_clean[column]==value])\n",
    "\n",
    "  print(\"\\n{} recidivated {}. It's {}\".format(value, rein, rein/total))\n",
    "\n",
    "  rein = df_clean[df_clean[column]==value][\"is_violent_recid\"].sum()\n",
    "  total = len(df_clean[df_clean[column]==value])\n",
    "\n",
    "  print(\"{} who violently recidivated {}. It's a {}\".format(value, rein, rein/total))\n",
    "  print(\"\\n--------------- \\n\")"
   ]
  },
  {
   "cell_type": "code",
   "execution_count": 18,
   "metadata": {
    "colab": {
     "base_uri": "https://localhost:8080/"
    },
    "id": "eTdyLD_8CKSG",
    "outputId": "6bf489c7-1661-4e60-c51f-1898d9c6c827"
   },
   "outputs": [
    {
     "name": "stdout",
     "output_type": "stream",
     "text": [
      "There are n=2266 African-Americans out of 3967 (57.12%)\n",
      "Average risk score of violent general recidivism of African-American: 4.051632833186232\n",
      "Average normalized risk score of violent general recidivism of African-American: 0.33907031479847016\n",
      "\n",
      "African-American recidivated 606. It's 0.2674315975286849\n",
      "African-American who violently recidivated 495. It's a 0.21844660194174756\n",
      "\n",
      "--------------- \n",
      "\n",
      "There are n=1701 Caucasians out of 3967 (42.88%)\n",
      "Average risk score of violent general recidivism of Caucasian: 2.6696061140505587\n",
      "Average normalized risk score of violent general recidivism of Caucasian: 0.18551179045006205\n",
      "\n",
      "Caucasian recidivated 268. It's 0.157554379776602\n",
      "Caucasian who violently recidivated 222. It's a 0.13051146384479717\n",
      "\n",
      "--------------- \n",
      "\n"
     ]
    }
   ],
   "source": [
    "for race in df_violent_clean[\"race\"].unique():\n",
    "  compute_metrics_violent(df_violent_clean, \"race\", race)"
   ]
  },
  {
   "cell_type": "markdown",
   "metadata": {
    "id": "2loxE-ywnbA8"
   },
   "source": [
    "Bootstraping confidence intervals"
   ]
  },
  {
   "cell_type": "code",
   "execution_count": 19,
   "metadata": {
    "id": "zlOeKSNpjfoB"
   },
   "outputs": [],
   "source": [
    "from scipy.stats import permutation_test\n",
    "\n",
    "def get_diff_diff_stat(avg_risk_gen_1, avg_risk_gen_2, rein_1, rein_2):\n",
    "  l1 = avg_risk_gen_1 - avg_risk_gen_2\n",
    "  l2 = rein_1 - rein_2\n",
    "\n",
    "  return l1 - l2\n",
    "\n",
    "def get_ratio_diff_stat(avg_risk_gen_1, avg_risk_gen_2, rein_1, rein_2):\n",
    "  l1 = avg_risk_gen_1 - avg_risk_gen_2\n",
    "  l2 = rein_1 - rein_2\n",
    "\n",
    "  return l1/l2\n",
    "\n",
    "\n",
    "def get_diff_ratio_stat(avg_risk_gen_1, avg_risk_gen_2, rein_1, rein_2):\n",
    "  l1 = avg_risk_gen_1/avg_risk_gen_2\n",
    "  l2 = rein_1/rein_2\n",
    "\n",
    "  return l1 - l2\n",
    "\n",
    "\n",
    "def get_ratio_ratio_stat(avg_risk_gen_1, avg_risk_gen_2, rein_1, rein_2):\n",
    "  l1 = avg_risk_gen_1/avg_risk_gen_2\n",
    "  l2 = rein_1/rein_2\n",
    "\n",
    "  return l1/l2\n",
    "\n",
    "\n"
   ]
  },
  {
   "cell_type": "code",
   "execution_count": 20,
   "metadata": {
    "id": "0A5xKK-md5KJ"
   },
   "outputs": [],
   "source": [
    "def get_bootstraped_metrics(df, column, value, is_violent=False, transformed=False):\n",
    "  target_column = \"decile_score\" if not is_violent else \"v_decile_score\"\n",
    "  target_column_recid = \"is_recid\" if not is_violent else \"is_violent_recid\"\n",
    "  trans_target_column = target_column + \"_trans\"\n",
    "\n",
    "  avg_risk_gen_1 = df[df[column]==value][target_column]\n",
    "  avg_risk_gen_1_trans = df[df[column]==value][trans_target_column]\n",
    "  rein_1 = df[df[column]==value][target_column_recid]\n",
    "\n",
    "  avg_risk_gen_2 = df[df[column]!=value][target_column]\n",
    "  avg_risk_gen_2_trans = df[df[column]!=value][trans_target_column]\n",
    "  rein_2 = df[df[column]!=value][target_column_recid]\n",
    "\n",
    "  return np.mean(avg_risk_gen_1), np.mean(avg_risk_gen_2), np.mean(avg_risk_gen_1_trans), np.mean(avg_risk_gen_2_trans), np.mean(rein_1), np.mean(rein_2)"
   ]
  },
  {
   "cell_type": "code",
   "execution_count": 21,
   "metadata": {
    "colab": {
     "base_uri": "https://localhost:8080/"
    },
    "id": "xCAeFvmyeELL",
    "outputId": "58f60c02-9a7f-492f-ace5-cdb90216fdc6"
   },
   "outputs": [
    {
     "name": "stderr",
     "output_type": "stream",
     "text": [
      "100%|██████████| 1000/1000 [00:10<00:00, 96.51it/s]\n"
     ]
    }
   ],
   "source": [
    "from tqdm import trange\n",
    "\n",
    "avg_risk_gen_1 = []\n",
    "avg_risk_gen_2 = []\n",
    "avg_risk_gen_1_trans = []\n",
    "avg_risk_gen_2_trans = []\n",
    "rein_1 = []\n",
    "rein_2 = []\n",
    "\n",
    "for _ in trange(1000):\n",
    "  chosen_idx = np.random.choice(range(len(df_clean)), replace=True, size=len(df_clean))\n",
    "  df2 = df_clean.iloc[chosen_idx]\n",
    "  av1, av2, av1_trans, av2_trans, r1, r2 = get_bootstraped_metrics(df2, \"race\", \"African-American\")\n",
    "  avg_risk_gen_1.append(av1)\n",
    "  avg_risk_gen_2.append(av2)\n",
    "  avg_risk_gen_1_trans.append(av1_trans)\n",
    "  avg_risk_gen_2_trans.append(av2_trans)\n",
    "  rein_1.append(r1)\n",
    "  rein_2.append(r2)"
   ]
  },
  {
   "cell_type": "code",
   "execution_count": 22,
   "metadata": {
    "colab": {
     "base_uri": "https://localhost:8080/"
    },
    "id": "qb2rU2QDecN_",
    "outputId": "5d4a9cc6-9369-45e5-dfe1-498c87e81f4f"
   },
   "outputs": [
    {
     "name": "stdout",
     "output_type": "stream",
     "text": [
      "Mean avg_risk_gen_1:  5.276370675926706\n",
      "CI:  0.10345118239863016 \n",
      "\n",
      "Mean avg_risk_gen_2:  3.6324809304035175\n",
      "CI:  0.10725733922783354 \n",
      "\n",
      "Mean avg_risk_gen_1_trans:  0.4751522973251896\n",
      "CI:  0.011494575822070197 \n",
      "\n",
      "Mean avg_risk_gen_2_trans:  0.2924978811559464\n",
      "CI:  0.011917482136425961 \n",
      "\n",
      "Mean avg_risk_gen_2:  3.6324809304035175\n",
      "CI:  0.10725733922783354 \n",
      "\n",
      "Mean rein_1:  0.5584974573432759\n",
      "CI:  0.018359529386208218 \n",
      "\n",
      "Mean rein_2:  0.41545034736339115\n",
      "CI:  0.022422760237383266 \n",
      "\n"
     ]
    }
   ],
   "source": [
    "print (\"Mean avg_risk_gen_1: \", np.mean(avg_risk_gen_1))\n",
    "print (\"CI: \",  np.mean(avg_risk_gen_1) - np.quantile(avg_risk_gen_1, (0.025, 0.975))[0], \"\\n\")\n",
    "\n",
    "print (\"Mean avg_risk_gen_2: \", np.mean(avg_risk_gen_2))\n",
    "print (\"CI: \",  np.mean(avg_risk_gen_2) - np.quantile(avg_risk_gen_2, (0.025, 0.975))[0], \"\\n\")\n",
    "\n",
    "print (\"Mean avg_risk_gen_1_trans: \", np.mean(avg_risk_gen_1_trans))\n",
    "print (\"CI: \",  np.mean(avg_risk_gen_1_trans) - np.quantile(avg_risk_gen_1_trans, (0.025, 0.975))[0], \"\\n\")\n",
    "\n",
    "print (\"Mean avg_risk_gen_2_trans: \", np.mean(avg_risk_gen_2_trans))\n",
    "print (\"CI: \",  np.mean(avg_risk_gen_2_trans) - np.quantile(avg_risk_gen_2_trans, (0.025, 0.975))[0], \"\\n\")\n",
    "\n",
    "print (\"Mean avg_risk_gen_2: \", np.mean(avg_risk_gen_2))\n",
    "print (\"CI: \",  np.mean(avg_risk_gen_2) - np.quantile(avg_risk_gen_2, (0.025, 0.975))[0], \"\\n\")\n",
    "\n",
    "print (\"Mean rein_1: \", np.mean(rein_1))\n",
    "print (\"CI: \",  np.mean(rein_1) - np.quantile(rein_1, (0.025, 0.975))[0], \"\\n\")\n",
    "\n",
    "print (\"Mean rein_2: \", np.mean(rein_2))\n",
    "print (\"CI: \",  np.mean(rein_2) - np.quantile(rein_2, (0.025, 0.975))[0], \"\\n\")"
   ]
  },
  {
   "cell_type": "code",
   "execution_count": 23,
   "metadata": {
    "colab": {
     "base_uri": "https://localhost:8080/"
    },
    "id": "yKDB-Lvllh12",
    "outputId": "c03af7d3-be36-4d83-f628-791d55b16fd5"
   },
   "outputs": [
    {
     "name": "stdout",
     "output_type": "stream",
     "text": [
      "Difference-of-difference metric\n",
      "Mean val:  0.039607306189358364\n",
      "95% CI:  [0.01281567 0.06515442]\n",
      "CI:  0.026791639231100853 \n",
      "\n",
      "Ratio-of-difference metric\n",
      "Mean val:  1.287217786775948\n",
      "95% CI:  [1.07327846 1.53832651]\n",
      "CI:  0.21393932753762623 \n",
      "\n",
      "Difference-of-Ratio metric\n",
      "Mean val:  0.10766762938258843\n",
      "95% CI:  [0.02298528 0.18275095]\n",
      "CI:  0.08468234875862021 \n",
      "\n",
      "Ratio-of-ratio metric\n",
      "Mean val:  1.0808270101723625\n",
      "95% CI:  [1.01654343 1.14156615]\n",
      "CI:  0.06428357569398968 \n",
      "\n"
     ]
    }
   ],
   "source": [
    "stats = get_diff_diff_stat(np.array(avg_risk_gen_1_trans), np.array(avg_risk_gen_2_trans), np.array(rein_1), np.array(rein_2))\n",
    "print (\"Difference-of-difference metric\")\n",
    "print (\"Mean val: \", np.mean(stats))\n",
    "print (\"95% CI: \", np.quantile(stats, (0.025, 0.975)))\n",
    "print (\"CI: \",  np.mean(stats) - np.quantile(stats, (0.025, 0.975))[0], \"\\n\")\n",
    "\n",
    "\n",
    "stats = get_ratio_diff_stat(np.array(avg_risk_gen_1_trans), np.array(avg_risk_gen_2_trans), np.array(rein_1), np.array(rein_2))\n",
    "print (\"Ratio-of-difference metric\")\n",
    "print (\"Mean val: \", np.mean(stats))\n",
    "print (\"95% CI: \", np.quantile(stats, (0.025, 0.975)))\n",
    "print (\"CI: \",  np.mean(stats) - np.quantile(stats, (0.025, 0.975))[0], \"\\n\")\n",
    "\n",
    "\n",
    "stats = get_diff_ratio_stat(np.array(avg_risk_gen_1), np.array(avg_risk_gen_2), np.array(rein_1), np.array(rein_2))\n",
    "print (\"Difference-of-Ratio metric\")\n",
    "print (\"Mean val: \", np.mean(stats))\n",
    "print (\"95% CI: \", np.quantile(stats, (0.025, 0.975)))\n",
    "print (\"CI: \",  np.mean(stats) - np.quantile(stats, (0.025, 0.975))[0], \"\\n\")\n",
    "\n",
    "\n",
    "stats = get_ratio_ratio_stat(np.array(avg_risk_gen_1), np.array(avg_risk_gen_2), np.array(rein_1), np.array(rein_2))\n",
    "print (\"Ratio-of-ratio metric\")\n",
    "print (\"Mean val: \", np.mean(stats))\n",
    "print (\"95% CI: \", np.quantile(stats, (0.025, 0.975)))\n",
    "print (\"CI: \",  np.mean(stats) - np.quantile(stats, (0.025, 0.975))[0], \"\\n\")\n",
    "\n"
   ]
  },
  {
   "cell_type": "code",
   "execution_count": 25,
   "metadata": {
    "colab": {
     "base_uri": "https://localhost:8080/"
    },
    "id": "UPETZZtGhMc3",
    "outputId": "367b899f-a942-4e2e-9115-e6f7c3998a53"
   },
   "outputs": [
    {
     "name": "stderr",
     "output_type": "stream",
     "text": [
      "100%|██████████| 1000/1000 [00:12<00:00, 80.34it/s]\n"
     ]
    }
   ],
   "source": [
    "from tqdm import trange\n",
    "\n",
    "avg_risk_gen_1 = []\n",
    "avg_risk_gen_2 = []\n",
    "avg_risk_gen_1_trans = []\n",
    "avg_risk_gen_2_trans = []\n",
    "rein_1 = []\n",
    "rein_2 = []\n",
    "\n",
    "for _ in trange(1000):\n",
    "  chosen_idx = np.random.choice(range(len(df_violent_clean)), replace=True, size=len(df_violent_clean))\n",
    "  df2 = df_violent_clean.iloc[chosen_idx]\n",
    "  av1, av2, av1_trans, av2_trans, r1, r2 = get_bootstraped_metrics(df2, \"race\", \"African-American\", True)\n",
    "  avg_risk_gen_1.append(av1)\n",
    "  avg_risk_gen_2.append(av2)\n",
    "  avg_risk_gen_1_trans.append(av1_trans)\n",
    "  avg_risk_gen_2_trans.append(av2_trans)\n",
    "  rein_1.append(r1)\n",
    "  rein_2.append(r2)"
   ]
  },
  {
   "cell_type": "code",
   "execution_count": 26,
   "metadata": {
    "colab": {
     "base_uri": "https://localhost:8080/"
    },
    "id": "-5aNGxTHhO-l",
    "outputId": "7dcda8b9-8dab-4ac9-ec69-c33375a589a8"
   },
   "outputs": [
    {
     "name": "stdout",
     "output_type": "stream",
     "text": [
      "Mean avg_risk_gen_1:  4.051245076579951\n",
      "CI:  0.11132796199888828 \n",
      "\n",
      "Mean avg_risk_gen_2:  2.6708027910094154\n",
      "CI:  0.09664469055080893 \n",
      "\n",
      "Mean avg_risk_gen_1_trans:  0.33902723073110574\n",
      "CI:  0.012369773555432062 \n",
      "\n",
      "Mean avg_risk_gen_2_trans:  0.18564475455660176\n",
      "CI:  0.010738298950089903 \n",
      "\n",
      "Mean rein_1:  0.21868788700700648\n",
      "CI:  0.016359238428860307 \n",
      "\n",
      "Mean rein_2:  0.13057433757728057\n",
      "CI:  0.01523740584063904 \n",
      "\n"
     ]
    }
   ],
   "source": [
    "print (\"Mean avg_risk_gen_1: \", np.mean(avg_risk_gen_1))\n",
    "print (\"CI: \",  np.mean(avg_risk_gen_1) - np.quantile(avg_risk_gen_1, (0.025, 0.975))[0], \"\\n\")\n",
    "\n",
    "print (\"Mean avg_risk_gen_2: \", np.mean(avg_risk_gen_2))\n",
    "print (\"CI: \",  np.mean(avg_risk_gen_2) - np.quantile(avg_risk_gen_2, (0.025, 0.975))[0], \"\\n\")\n",
    "\n",
    "print (\"Mean avg_risk_gen_1_trans: \", np.mean(avg_risk_gen_1_trans))\n",
    "print (\"CI: \",  np.mean(avg_risk_gen_1_trans) - np.quantile(avg_risk_gen_1_trans, (0.025, 0.975))[0], \"\\n\")\n",
    "\n",
    "print (\"Mean avg_risk_gen_2_trans: \", np.mean(avg_risk_gen_2_trans))\n",
    "print (\"CI: \",  np.mean(avg_risk_gen_2_trans) - np.quantile(avg_risk_gen_2_trans, (0.025, 0.975))[0], \"\\n\")\n",
    "\n",
    "print (\"Mean rein_1: \", np.mean(rein_1))\n",
    "print (\"CI: \",  np.mean(rein_1) - np.quantile(rein_1, (0.025, 0.975))[0], \"\\n\")\n",
    "\n",
    "print (\"Mean rein_2: \", np.mean(rein_2))\n",
    "print (\"CI: \",  np.mean(rein_2) - np.quantile(rein_2, (0.025, 0.975))[0], \"\\n\")"
   ]
  },
  {
   "cell_type": "code",
   "execution_count": 27,
   "metadata": {
    "colab": {
     "base_uri": "https://localhost:8080/"
    },
    "id": "ZNoUktjshRRT",
    "outputId": "2dbd9290-cd9c-455d-b8aa-aa18450d601a"
   },
   "outputs": [
    {
     "name": "stdout",
     "output_type": "stream",
     "text": [
      "Difference-of-difference metric\n",
      "Mean val:  0.06526892674477809\n",
      "95% CI:  [0.0399621  0.08986973]\n",
      "CI:  0.02530682657410835 \n",
      "\n",
      "Ratio-of-difference metric\n",
      "Mean val:  1.7715457347089736\n",
      "95% CI:  [1.36044913 2.35222254]\n",
      "CI:  0.41109660260820213 \n",
      "\n",
      "Difference-of-Ratio metric\n",
      "Mean val:  -0.16423889264759647\n",
      "95% CI:  [-0.44529353  0.05902772]\n",
      "CI:  0.28105463862965496 \n",
      "\n",
      "Ratio-of-ratio metric\n",
      "Mean val:  0.9070515638518738\n",
      "95% CI:  [0.77555083 1.0402787 ]\n",
      "CI:  0.13150073068655843 \n",
      "\n"
     ]
    }
   ],
   "source": [
    "stats = get_diff_diff_stat(np.array(avg_risk_gen_1_trans), np.array(avg_risk_gen_2_trans), np.array(rein_1), np.array(rein_2))\n",
    "print (\"Difference-of-difference metric\")\n",
    "print (\"Mean val: \", np.mean(stats))\n",
    "print (\"95% CI: \", np.quantile(stats, (0.025, 0.975)))\n",
    "print (\"CI: \",  np.mean(stats) - np.quantile(stats, (0.025, 0.975))[0], \"\\n\")\n",
    "\n",
    "\n",
    "stats = get_ratio_diff_stat(np.array(avg_risk_gen_1_trans), np.array(avg_risk_gen_2_trans), np.array(rein_1), np.array(rein_2))\n",
    "print (\"Ratio-of-difference metric\")\n",
    "print (\"Mean val: \", np.mean(stats))\n",
    "print (\"95% CI: \", np.quantile(stats, (0.025, 0.975)))\n",
    "print (\"CI: \",  np.mean(stats) - np.quantile(stats, (0.025, 0.975))[0], \"\\n\")\n",
    "\n",
    "\n",
    "stats = get_diff_ratio_stat(np.array(avg_risk_gen_1), np.array(avg_risk_gen_2), np.array(rein_1), np.array(rein_2))\n",
    "print (\"Difference-of-Ratio metric\")\n",
    "print (\"Mean val: \", np.mean(stats))\n",
    "print (\"95% CI: \", np.quantile(stats, (0.025, 0.975)))\n",
    "print (\"CI: \",  np.mean(stats) - np.quantile(stats, (0.025, 0.975))[0], \"\\n\")\n",
    "\n",
    "\n",
    "stats = get_ratio_ratio_stat(np.array(avg_risk_gen_1), np.array(avg_risk_gen_2), np.array(rein_1), np.array(rein_2))\n",
    "print (\"Ratio-of-ratio metric\")\n",
    "print (\"Mean val: \", np.mean(stats))\n",
    "print (\"95% CI: \", np.quantile(stats, (0.025, 0.975)))\n",
    "print (\"CI: \",  np.mean(stats) - np.quantile(stats, (0.025, 0.975))[0], \"\\n\")\n",
    "\n"
   ]
  },
  {
   "cell_type": "code",
   "execution_count": null,
   "metadata": {
    "id": "ZHlmLX1wAkiK"
   },
   "outputs": [],
   "source": [
    "# @title Replication of Flores paper plots"
   ]
  },
  {
   "cell_type": "code",
   "execution_count": null,
   "metadata": {
    "id": "OOmt8IsHfb-Z"
   },
   "outputs": [],
   "source": [
    "import numpy as np\n",
    "df2 = df[df['is_recid'] != -1]\n",
    "df2 = df2[(df2['days_b_screening_arrest'] <= 30) & (df2['days_b_screening_arrest'] >= -30)]\n",
    "df2 = df2[df2['c_charge_degree'] != \"O\"]\n",
    "df2 = df2[df2['score_text'] != 'N/A']\n",
    "df2['sex_bin'] = df2['sex'] == \"Female\"\n",
    "df2 = df2[df2['race'].isin(['African-American', 'Caucasian'])]\n",
    "df2['race_bin'] = df2['race'] == \"African-American\"\n",
    "\n",
    "\n",
    "# labels_aa, labels_ca = [], []\n",
    "# for score in range(1, 10):\n",
    "#    labels_aa.append(np.mean(df2[df2['decile_score'] == score][df2['race'] == \"African-American\"]['is_recid']))\n",
    "#    labels_ca.append(np.mean(df2[df2['decile_score'] == score][df2['race'] == \"Caucasian\"]['is_recid']))\n"
   ]
  },
  {
   "cell_type": "code",
   "execution_count": null,
   "metadata": {
    "colab": {
     "base_uri": "https://localhost:8080/",
     "height": 383
    },
    "id": "b4wso2Khg2ij",
    "outputId": "3c0c0e95-aa5e-4ecd-c690-f819f2754c20"
   },
   "outputs": [
    {
     "name": "stdout",
     "output_type": "stream",
     "text": [
      "Optimization terminated successfully.\n",
      "         Current function value: 0.615546\n",
      "         Iterations 5\n"
     ]
    },
    {
     "data": {
      "text/html": [
       "<table class=\"simpletable\">\n",
       "<caption>Logit Regression Results</caption>\n",
       "<tr>\n",
       "  <th>Dep. Variable:</th>       <td>is_recid</td>     <th>  No. Observations:  </th>   <td>  5278</td>  \n",
       "</tr>\n",
       "<tr>\n",
       "  <th>Model:</th>                 <td>Logit</td>      <th>  Df Residuals:      </th>   <td>  5272</td>  \n",
       "</tr>\n",
       "<tr>\n",
       "  <th>Method:</th>                 <td>MLE</td>       <th>  Df Model:          </th>   <td>     5</td>  \n",
       "</tr>\n",
       "<tr>\n",
       "  <th>Date:</th>            <td>Sun, 24 Sep 2023</td> <th>  Pseudo R-squ.:     </th>   <td>0.1119</td>  \n",
       "</tr>\n",
       "<tr>\n",
       "  <th>Time:</th>                <td>01:45:40</td>     <th>  Log-Likelihood:    </th>  <td> -3248.9</td> \n",
       "</tr>\n",
       "<tr>\n",
       "  <th>converged:</th>             <td>True</td>       <th>  LL-Null:           </th>  <td> -3658.4</td> \n",
       "</tr>\n",
       "<tr>\n",
       "  <th>Covariance Type:</th>     <td>nonrobust</td>    <th>  LLR p-value:       </th> <td>8.484e-175</td>\n",
       "</tr>\n",
       "</table>\n",
       "<table class=\"simpletable\">\n",
       "<tr>\n",
       "                <td></td>                   <th>coef</th>     <th>std err</th>      <th>z</th>      <th>P>|z|</th>  <th>[0.025</th>    <th>0.975]</th>  \n",
       "</tr>\n",
       "<tr>\n",
       "  <th>Intercept</th>                     <td>   -0.7923</td> <td>    0.153</td> <td>   -5.166</td> <td> 0.000</td> <td>   -1.093</td> <td>   -0.492</td>\n",
       "</tr>\n",
       "<tr>\n",
       "  <th>sex_bin[T.True]</th>               <td>   -0.5604</td> <td>    0.076</td> <td>   -7.333</td> <td> 0.000</td> <td>   -0.710</td> <td>   -0.411</td>\n",
       "</tr>\n",
       "<tr>\n",
       "  <th>race_bin[T.True]</th>              <td>    0.1776</td> <td>    0.121</td> <td>    1.464</td> <td> 0.143</td> <td>   -0.060</td> <td>    0.415</td>\n",
       "</tr>\n",
       "<tr>\n",
       "  <th>age</th>                           <td>   -0.0111</td> <td>    0.003</td> <td>   -3.937</td> <td> 0.000</td> <td>   -0.017</td> <td>   -0.006</td>\n",
       "</tr>\n",
       "<tr>\n",
       "  <th>decile_score</th>                  <td>    0.2649</td> <td>    0.020</td> <td>   13.016</td> <td> 0.000</td> <td>    0.225</td> <td>    0.305</td>\n",
       "</tr>\n",
       "<tr>\n",
       "  <th>race_bin[T.True]:decile_score</th> <td>   -0.0111</td> <td>    0.024</td> <td>   -0.452</td> <td> 0.651</td> <td>   -0.059</td> <td>    0.037</td>\n",
       "</tr>\n",
       "</table>"
      ],
      "text/latex": [
       "\\begin{center}\n",
       "\\begin{tabular}{lclc}\n",
       "\\toprule\n",
       "\\textbf{Dep. Variable:}                  &    is\\_recid     & \\textbf{  No. Observations:  } &     5278    \\\\\n",
       "\\textbf{Model:}                          &      Logit       & \\textbf{  Df Residuals:      } &     5272    \\\\\n",
       "\\textbf{Method:}                         &       MLE        & \\textbf{  Df Model:          } &        5    \\\\\n",
       "\\textbf{Date:}                           & Sun, 24 Sep 2023 & \\textbf{  Pseudo R-squ.:     } &   0.1119    \\\\\n",
       "\\textbf{Time:}                           &     01:45:40     & \\textbf{  Log-Likelihood:    } &   -3248.9   \\\\\n",
       "\\textbf{converged:}                      &       True       & \\textbf{  LL-Null:           } &   -3658.4   \\\\\n",
       "\\textbf{Covariance Type:}                &    nonrobust     & \\textbf{  LLR p-value:       } & 8.484e-175  \\\\\n",
       "\\bottomrule\n",
       "\\end{tabular}\n",
       "\\begin{tabular}{lcccccc}\n",
       "                                         & \\textbf{coef} & \\textbf{std err} & \\textbf{z} & \\textbf{P$> |$z$|$} & \\textbf{[0.025} & \\textbf{0.975]}  \\\\\n",
       "\\midrule\n",
       "\\textbf{Intercept}                       &      -0.7923  &        0.153     &    -5.166  &         0.000        &       -1.093    &       -0.492     \\\\\n",
       "\\textbf{sex\\_bin[T.True]}                &      -0.5604  &        0.076     &    -7.333  &         0.000        &       -0.710    &       -0.411     \\\\\n",
       "\\textbf{race\\_bin[T.True]}               &       0.1776  &        0.121     &     1.464  &         0.143        &       -0.060    &        0.415     \\\\\n",
       "\\textbf{age}                             &      -0.0111  &        0.003     &    -3.937  &         0.000        &       -0.017    &       -0.006     \\\\\n",
       "\\textbf{decile\\_score}                   &       0.2649  &        0.020     &    13.016  &         0.000        &        0.225    &        0.305     \\\\\n",
       "\\textbf{race\\_bin[T.True]:decile\\_score} &      -0.0111  &        0.024     &    -0.452  &         0.651        &       -0.059    &        0.037     \\\\\n",
       "\\bottomrule\n",
       "\\end{tabular}\n",
       "%\\caption{Logit Regression Results}\n",
       "\\end{center}"
      ],
      "text/plain": [
       "<class 'statsmodels.iolib.summary.Summary'>\n",
       "\"\"\"\n",
       "                           Logit Regression Results                           \n",
       "==============================================================================\n",
       "Dep. Variable:               is_recid   No. Observations:                 5278\n",
       "Model:                          Logit   Df Residuals:                     5272\n",
       "Method:                           MLE   Df Model:                            5\n",
       "Date:                Sun, 24 Sep 2023   Pseudo R-squ.:                  0.1119\n",
       "Time:                        01:45:40   Log-Likelihood:                -3248.9\n",
       "converged:                       True   LL-Null:                       -3658.4\n",
       "Covariance Type:            nonrobust   LLR p-value:                8.484e-175\n",
       "=================================================================================================\n",
       "                                    coef    std err          z      P>|z|      [0.025      0.975]\n",
       "-------------------------------------------------------------------------------------------------\n",
       "Intercept                        -0.7923      0.153     -5.166      0.000      -1.093      -0.492\n",
       "sex_bin[T.True]                  -0.5604      0.076     -7.333      0.000      -0.710      -0.411\n",
       "race_bin[T.True]                  0.1776      0.121      1.464      0.143      -0.060       0.415\n",
       "age                              -0.0111      0.003     -3.937      0.000      -0.017      -0.006\n",
       "decile_score                      0.2649      0.020     13.016      0.000       0.225       0.305\n",
       "race_bin[T.True]:decile_score    -0.0111      0.024     -0.452      0.651      -0.059       0.037\n",
       "=================================================================================================\n",
       "\"\"\""
      ]
     },
     "execution_count": 23,
     "metadata": {},
     "output_type": "execute_result"
    }
   ],
   "source": [
    "import statsmodels.api as sm\n",
    "import statsmodels.formula.api as smf\n",
    "\n",
    "res = smf.logit(formula='is_recid ~ age + sex_bin + race_bin + decile_score + race_bin*decile_score', data=df2).fit()\n",
    "res.summary()"
   ]
  },
  {
   "cell_type": "code",
   "execution_count": null,
   "metadata": {
    "id": "M-IWT1-biNAC"
   },
   "outputs": [],
   "source": [
    "df2['prediction'] = res.predict()"
   ]
  },
  {
   "cell_type": "code",
   "execution_count": null,
   "metadata": {
    "colab": {
     "base_uri": "https://localhost:8080/",
     "height": 685
    },
    "id": "G_v4kZlPj67G",
    "outputId": "8b17a2be-1f71-4129-aab5-9a4c6c41ed4b"
   },
   "outputs": [
    {
     "name": "stdout",
     "output_type": "stream",
     "text": [
      "Score: 1 Calibration - AA:  0.27910735789867397 Calibration - Cauc:  0.2365582030846065\n",
      "Score: 2 Calibration - AA:  0.35559619016203814 Calibration - Cauc:  0.3162702683418854\n",
      "Score: 3 Calibration - AA:  0.4241473246801042 Calibration - Cauc:  0.376556322087205\n",
      "Score: 4 Calibration - AA:  0.49013054491191144 Calibration - Cauc:  0.45483045303438774\n",
      "Score: 5 Calibration - AA:  0.5470989159606485 Calibration - Cauc:  0.5083420497123164\n",
      "Score: 6 Calibration - AA:  0.6102812035547651 Calibration - Cauc:  0.5618394384095178\n",
      "Score: 7 Calibration - AA:  0.6762626412966523 Calibration - Cauc:  0.6347252902783573\n",
      "Score: 8 Calibration - AA:  0.729603112002248 Calibration - Cauc:  0.70680452537869\n",
      "Score: 9 Calibration - AA:  0.7794606382398597 Calibration - Cauc:  0.7594190832396849\n",
      "Score: 10 Calibration - AA:  0.8241392889681278 Calibration - Cauc:  0.7920028903341272\n"
     ]
    },
    {
     "name": "stderr",
     "output_type": "stream",
     "text": [
      "<ipython-input-25-65f419328002>:5: UserWarning: Boolean Series key will be reindexed to match DataFrame index.\n",
      "  prob_score_aa = np.mean(df2[df2['decile_score'] == score][df2['race'] == \"African-American\"]['prediction'])\n",
      "<ipython-input-25-65f419328002>:7: UserWarning: Boolean Series key will be reindexed to match DataFrame index.\n",
      "  prob_score_ca = np.mean(df2[df2['decile_score'] == score][df2['race'] == \"Caucasian\"]['prediction'])\n"
     ]
    },
    {
     "data": {
      "text/plain": [
       "<matplotlib.legend.Legend at 0x7e6b4c996fb0>"
      ]
     },
     "execution_count": 25,
     "metadata": {},
     "output_type": "execute_result"
    },
    {
     "data": {
      "image/png": "[encoded data removed]",
      "text/plain": [
       "<Figure size 640x480 with 1 Axes>"
      ]
     },
     "metadata": {},
     "output_type": "display_data"
    }
   ],
   "source": [
    "import matplotlib.pyplot as plt\n",
    "\n",
    "p_aa, p_ca = [], []\n",
    "for score in range(1, 11):\n",
    "  prob_score_aa = np.mean(df2[df2['decile_score'] == score][df2['race'] == \"African-American\"]['prediction'])\n",
    "  p_aa.append(prob_score_aa)\n",
    "  prob_score_ca = np.mean(df2[df2['decile_score'] == score][df2['race'] == \"Caucasian\"]['prediction'])\n",
    "  p_ca.append(prob_score_ca)\n",
    "\n",
    "  print (\"Score:\", score, \"Calibration - AA: \", prob_score_aa, \"Calibration - Cauc: \", prob_score_ca)\n",
    "\n",
    "xs = range(1,11)\n",
    "plt.plot(xs, p_ca, label=\"Caucasian\")\n",
    "plt.plot(xs, p_aa, label=\"African-American\")\n",
    "plt.legend()"
   ]
  },
  {
   "cell_type": "code",
   "execution_count": null,
   "metadata": {
    "id": "GQiEV9binTtV"
   },
   "outputs": [],
   "source": []
  },
  {
   "cell_type": "code",
   "execution_count": null,
   "metadata": {
    "id": "aBzyqslrfc68"
   },
   "outputs": [],
   "source": []
  },
  {
   "cell_type": "code",
   "execution_count": null,
   "metadata": {
    "id": "Rh-9QexMmzNW"
   },
   "outputs": [],
   "source": []
  }
 ],
 "metadata": {
  "colab": {
   "provenance": []
  },
  "kernelspec": {
   "display_name": "Python 3 (ipykernel)",
   "language": "python",
   "name": "python3"
  },
  "language_info": {
   "codemirror_mode": {
    "name": "ipython",
    "version": 3
   },
   "file_extension": ".py",
   "mimetype": "text/x-python",
   "name": "python",
   "nbconvert_exporter": "python",
   "pygments_lexer": "ipython3",
   "version": "3.11.4"
  }
 },
 "nbformat": 4,
 "nbformat_minor": 4
}
